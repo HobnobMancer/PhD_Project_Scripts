{
 "cells": [
  {
   "cell_type": "markdown",
   "metadata": {},
   "source": [
    "# Section 2: Summarising the CAZyme Annotation in GenBank Files\n",
    "\n",
    "This notebook describes the process of summarising the CAZymes within GenBank files, by identifying annotated coding sequences which are linked to any entry in the [CAZy database](http://www.cazy.org/).\n",
    "\n",
    "This notebook refers to the Python script CAZy_genbank_summary.py.\n",
    "\n",
    "<font color=red>**Note**</font>, that this notebook does not include the entirity of script code, but instead includes exerts to help illustrate the programme arcitecture and function. Specifically, the function `main`, which orchestrates the calling of functions to perform the overal operation of the script is excluded from this notebook, as well as logging and error checking.\n",
    "    \n",
    "Additionally, in some instances sections of code have been removed, replaced by a comment to indicate the intent or function of the code and/or introduced later on in the notebook than is reflected in the code. This is to enable a detailed description of the code function at a more logical, and oppertune time.\n",
    "    \n",
    "For the complete script, navigate to `Section2_CAZy_genbank_summary/CAZy_genbank_summary.py` within the repository.\n"
   ]
  },
  {
   "cell_type": "markdown",
   "metadata": {},
   "source": [
    "## Contents\n",
    "\n",
    "_add table of contents_"
   ]
  }
 ],
 "metadata": {
  "kernelspec": {
   "display_name": "Python 3",
   "language": "python",
   "name": "python3"
  },
  "language_info": {
   "codemirror_mode": {
    "name": "ipython",
    "version": 3
   },
   "file_extension": ".py",
   "mimetype": "text/x-python",
   "name": "python",
   "nbconvert_exporter": "python",
   "pygments_lexer": "ipython3",
   "version": "3.7.3"
  }
 },
 "nbformat": 4,
 "nbformat_minor": 2
}
