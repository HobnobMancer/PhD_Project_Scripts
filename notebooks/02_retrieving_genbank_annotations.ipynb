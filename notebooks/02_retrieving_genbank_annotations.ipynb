{
 "cells": [
  {
   "cell_type": "markdown",
   "metadata": {},
   "source": [
    "# 02 Retrieving GenBank Annotations\n",
    "\n",
    "## Pyrewton module genbank, submodule get_genbank_annotations\n",
    "\n",
    "This notebook describes the process of retrieving all protein annotations from GenBank files, referring to the \n",
    "process of summarising the CAZymes within GenBank files, by identifying annotated coding sequences which are linked to any entry in the [CAZy database](http://www.cazy.org/).\n",
    "\n",
    "This notebook refers to the `pyrewton` submodule `get_genbank_annotations`.\n"
   ]
  },
  {
   "cell_type": "markdown",
   "metadata": {},
   "source": [
    "<div class=\"alert-danger\">\n",
    "<p></p>\n",
    "<b>Note:</b> this notebook does not include the entirity of script code, but instead includes exerts to help illustrate the programme arcitecture and function. Specifically, the function _main_, which orchestrates the calling of functions to perform the overal operation of the script is excluded from this notebook, as well as logging and error checking.\n",
    "</div>\n",
    "<p></p>\n",
    "<div class=\"alert-danger\">    \n",
    "Additionally, in some instances sections of code have been removed, replaced by a comment to indicate the intent or function of the code and/or introduced later on in the notebook than is reflected in the code. This is to enable a detailed description of the code function at a more logical, and oppertune time.\n",
    "</div>\n",
    "<p></p>\n",
    "<div class=\"alert-success\">\n",
    "<p></p>\n",
    "<p>For the complete script, navigate to `pyrewton/genbank/get_genbank_annotations` within the repository.</p>\n",
    "<p></p>\n",
    "</div>"
   ]
  },
  {
   "cell_type": "markdown",
   "metadata": {},
   "source": [
    "## Contents"
   ]
  },
  {
   "cell_type": "markdown",
   "metadata": {},
   "source": [
    "- [Operating the script](#linkoperating)\n",
    "- [Script input](#linkinput)\n",
    "- [Command line options](#linkcommand)\n",
    "- [Python imports](#linkimports)\n",
    "- [Coordination of protein annotations retrieval](#linkcoordination)\n",
    "- [Annotation retrieval](#linkannotation)\n"
   ]
  },
  {
   "cell_type": "markdown",
   "metadata": {},
   "source": [
    "<a id=\"linkoperating\"><a/>"
   ]
  },
  {
   "cell_type": "markdown",
   "metadata": {},
   "source": [
    "## Operating the script"
   ]
  },
  {
   "cell_type": "markdown",
   "metadata": {},
   "source": [
    "\n",
    "The script `get_genbank_annotations.py` is written as a command-line programme and thus is most easily operated via the command-line. The standard structure of the command-line call to operate the script is:\n",
    "`python3 get_genbank_annotations.py <other options>`\n",
    "\n",
    "Multiple options are avilable to customise the operation of the script to the users needs. A full list of the available options are included in the documentation at [Read the Docs](https://phd-project-scripts.readthedocs.io/en/latest/genbank.html#get-genbank-annotations), as well as further on in this notebook.\n"
   ]
  },
  {
   "cell_type": "markdown",
   "metadata": {},
   "source": [
    "<div class=\"alert-info\">\n",
    "    For the retrieving of protein annotations from the GenBank files retrieved previously (see the [notebook 01_downloading_genbank_files](WWWWWWWW), the following code was run at the command-line:\n",
    "</div>\n",
    "\n",
    "> `python3 get_genbank_annotations -d get_ncbi_genomes/2020_05_31_genome_dataframe.csv -g get_ncbi_genomes/2020_05_31_GenBank_file_pulldown -l get_genbank_annotations/2020_07_21_genbank_annotations_log.log -o get_genbank_annotations/2020_07_21_genbank_annotaitons_dataframe.csv -v`"
   ]
  },
  {
   "cell_type": "markdown",
   "metadata": {},
   "source": [
    "<a id=\"linkcommand\"><a/>"
   ]
  },
  {
   "cell_type": "markdown",
   "metadata": {},
   "source": [
    "## Command-line options\n",
    "\n",
    "The script is designed as command-line programme, and thus operation of the script is customisable by passing arguments from the command-line.\n",
    "\n",
    "**Compulsory argument**<br>\n",
    "The option `-u` or `--user` <font color=red>**must**</font> be used in order to provider the users email address, becuase this is a requiremnt for Entrez which is used to call to NCBI.\n",
    "\n",
    "**Optional arguments**<br>\n",
    "\n",
    "`-d, --df_input`<br>\n",
    "&emsp;&emsp;Path to input dataframe.\n",
    "\n",
    "`-f, --force`<br>\n",
    "&emsp;&emsp;Enable writting in specificed output directory if output directory already exists.\n",
    "\n",
    "`-g, --genbank`<br>\n",
    "&emsp;&emsp;Path to directory containing GenBank files.\n",
    "\n",
    "`-h, --help`<br>\n",
    "&emsp;&emsp;Display help messages and exit\n",
    "\n",
    "\n",
    "`-l, --log`<br>\n",
    "&emsp;&emsp;Specify name of log file (With extension). If only filename is given, log file will be written out to the current working directory, otherwise provide path including filename. If not option is given no log file will be written out, however, logs will still be printed to the terminal.\n",
    "\n",
    "`-n, --nodelete`<br>\n",
    "&emsp;&emsp;Enable not deleting files in existing output directory. If not enabled, output directory exists and writing in output directory is ‘forced’ then files in output directory will not be deleted, and new files will be written to the output directory.\n",
    "\n",
    "`-o, --output`<br>\n",
    "&emsp;&emsp;Specify filename (with extension) of output file. If not option is given output will be written to STDOUT.\n",
    "\n",
    "`-v, --verbose`<br>\n",
    "&emsp;&emsp;Enable verbose logging - changes logger level from WARNING to INFO."
   ]
  },
  {
   "cell_type": "markdown",
   "metadata": {},
   "source": [
    "<a id=\"linkimports\"><a/>"
   ]
  },
  {
   "cell_type": "markdown",
   "metadata": {},
   "source": [
    "## Python imports"
   ]
  },
  {
   "cell_type": "code",
   "execution_count": null,
   "metadata": {},
   "outputs": [],
   "source": [
    "import gzip\n",
    "import logging\n",
    "import sys\n",
    "\n",
    "from pathlib import Path\n",
    "from typing import List, Optional\n",
    "\n",
    "import pandas as pd\n",
    "\n",
    "from Bio import SeqIO\n",
    "from tqdm import tqdm\n",
    "\n",
    "from pyrewton.file_io import make_output_directory, write_out_dataframe\n",
    "from pyrewton.loggers import build_logger\n",
    "from pyrewton.parsers.parser_get_genbank_annotations import build_parser\n"
   ]
  },
  {
   "cell_type": "markdown",
   "metadata": {},
   "source": [
    "<a id=\"linkparsing\"><a/>"
   ]
  },
  {
   "cell_type": "markdown",
   "metadata": {},
   "source": [
    "## Create a foundation dataframe"
   ]
  },
  {
   "cell_type": "markdown",
   "metadata": {},
   "source": [
    "\n",
    "Prior to collecting the protein annotations from the GenBank files, an empty dataframe is created, to which all retrieved annotation data can be added.\n",
    "\n",
    "Then the input dataframe, containg the taxonomic and genomic accession numbers is parsed, retrieving the protein annotations for one species at a time. This one-at-a-time approach facilitates the close association of annotation data with the host species taxonomic data.\n"
   ]
  },
  {
   "cell_type": "code",
   "execution_count": null,
   "metadata": {},
   "outputs": [],
   "source": [
    "def create_dataframe(input_df, args, logger):\n",
    "\n",
    "    # Create empty dataframe to add data to\n",
    "    protein_annotation_df = pd.DataFrame(\n",
    "        columns=[\n",
    "            \"Genus\",\n",
    "            \"Species\",\n",
    "            \"NCBI Taxonomy ID\",\n",
    "            \"NCBI Accession Number\",\n",
    "            \"NCBI Protein ID\",\n",
    "            \"Locus Tag\",\n",
    "            \"Gene Locus\",\n",
    "            \"NCBI Recorded Function\",\n",
    "            \"Protein Sequence\",\n",
    "        ]\n",
    "    )\n",
    "\n",
    "    # Retrieve data for dataframe foundation and add to empty dataframe\n",
    "    df_index = 0\n",
    "    for df_index in range(len(input_df[\"Genus\"])):\n",
    "        protein_annotation_df = protein_annotation_df.append(\n",
    "            get_genbank_annotations(input_df.iloc[df_index], args, logger),\n",
    "            ignore_index=True,\n",
    "        )\n",
    "        df_index += 1\n",
    "\n",
    "    return protein_annotation_df"
   ]
  },
  {
   "cell_type": "markdown",
   "metadata": {},
   "source": [
    "<a id=\"linkcoordination\"><a/>"
   ]
  },
  {
   "cell_type": "markdown",
   "metadata": {},
   "source": [
    "## Coordination of protein annotations retrieval"
   ]
  },
  {
   "cell_type": "markdown",
   "metadata": {},
   "source": [
    "\n",
    "The function `get_genbank_annotations` coordinates the retrieval and processing of retrieved annotations from all GenBank files for a given species.\n",
    "\n",
    "The function creates an empty dataframe (identical to that to above) to add the collected data from the annotations to.\n",
    "\n",
    "Then function separates the human readable list of accession numbers into a Python list. The list is parsed by the function to retrieve and collate the protein annotations for accession number.\n"
   ]
  },
  {
   "cell_type": "code",
   "execution_count": null,
   "metadata": {},
   "outputs": [],
   "source": [
    "def get_genbank_annotations(df_row, args, logger):\n",
    "\n",
    "    # Create empty dataframe to store data in\n",
    "    protein_data_df = pd.DataFrame(\n",
    "        columns=[\n",
    "            \"Genus\",\n",
    "            \"Species\",\n",
    "            \"NCBI Taxonomy ID\",\n",
    "            \"NCBI Accession Number\",\n",
    "            \"NCBI Protein ID\",\n",
    "            \"Locus Tag\",\n",
    "            \"Gene Locus\",\n",
    "            \"NCBI Recorded Function\",\n",
    "            \"Protein Sequence\",\n",
    "        ]\n",
    "    )\n",
    "\n",
    "    # convert human readable list of accession numbers into Python list\n",
    "    accession_list = df_row[3].split(\", \")\n"
   ]
  },
  {
   "cell_type": "markdown",
   "metadata": {},
   "source": [
    "\n",
    "Once the protein data has been retrieved from the respective GenBank file for the current accession number, if no data was retrieved then a default 'no data' row is added to the empty dataframe for the host species.\n"
   ]
  },
  {
   "cell_type": "markdown",
   "metadata": {},
   "source": [
    "<div class=\"alert-warning\">\n",
    "Retrieval of no protein is frequentl the result of an unannotated or poorly annotated genomic assembly submission to NCBI. With the capacity for genome sequencing far out weighing the capacity for automated and mannual annotation, many genomes are not fully annotated with CDS features.\n",
    "</div>"
   ]
  },
  {
   "cell_type": "code",
   "execution_count": null,
   "metadata": {},
   "outputs": [],
   "source": [
    "\n",
    "    if len(protein_data) == 0:\n",
    "        # log warning\n",
    "        # Add null values to dataframe for the accession number\n",
    "        new_df_row = {\n",
    "            \"Genus\": df_row[0],\n",
    "            \"Species\": df_row[1],\n",
    "            \"NCBI Taxonomy ID\": df_row[2],\n",
    "            \"NCBI Accession Number\": accession,\n",
    "            \"NCBI Protein ID\": \"NA\",\n",
    "            \"Locus Tag\": \"NA\",\n",
    "            \"Gene Locus\": \"NA\",\n",
    "            \"NCBI Recorded Function\": \"NA\",\n",
    "            \"Protein Sequence\": \"NA\",\n",
    "        }\n",
    "        protein_data_df = protein_data_df.append(new_df_row, ignore_index=True)\n"
   ]
  },
  {
   "cell_type": "markdown",
   "metadata": {},
   "source": [
    "\n",
    "If data is retrieved from the GenBank file, the data is add to the appropriate key/value pair in a dictionary, to form the data for a new row in the dataframe of protein data for the host species.\n"
   ]
  },
  {
   "cell_type": "code",
   "execution_count": null,
   "metadata": {},
   "outputs": [],
   "source": [
    "    else:\n",
    "        protein_index = 0  # index number in protein_data tuple\n",
    "        for protein_index in tqdm(\n",
    "            range(len(protein_data)),\n",
    "            desc=f\"Getting proteins {df_row[2]}-{accession}\",\n",
    "        ):\n",
    "            # Compile data for new row to be added to dataframe\n",
    "            new_df_row = {\n",
    "                \"Genus\": df_row[0],\n",
    "                \"Species\": df_row[1],\n",
    "                \"NCBI Taxonomy ID\": df_row[2],\n",
    "                \"NCBI Accession Number\": accession,\n",
    "                \"NCBI Protein ID\": protein_data[protein_index][0],\n",
    "                \"Locus Tag\": protein_data[protein_index][1],\n",
    "                \"Gene Locus\": protein_data[protein_index][2],\n",
    "                \"NCBI Recorded Function\": protein_data[protein_index][3],\n",
    "                \"Protein Sequence\": protein_data[protein_index][4],\n",
    "            }\n",
    "\n",
    "            # Add new row to dataframe\n",
    "            protein_data_df = protein_data_df.append(new_df_row, ignore_index=True)\n",
    "            protein_index += 1\n"
   ]
  },
  {
   "cell_type": "markdown",
   "metadata": {},
   "source": [
    "\n",
    "Then the dataframe containing all retrieved protein data for the given species is returned add appended to the master dataframe created in the `create_dataframe` function.\n"
   ]
  },
  {
   "cell_type": "markdown",
   "metadata": {},
   "source": [
    "<a id=\"linkannotation\"><a/>"
   ]
  },
  {
   "cell_type": "markdown",
   "metadata": {},
   "source": [
    "### Annotation retrieval"
   ]
  },
  {
   "cell_type": "markdown",
   "metadata": {},
   "source": [
    "\n",
    "The function `get_annotations` coordinates the retrieval of annotations from a single GenBank file, named by the accession number passed to the function.\n",
    "\n",
    "Initially, the function checks that an accession number is provided. If none is provided the default null values for all protein is returned for the accession number.\n"
   ]
  },
  {
   "cell_type": "code",
   "execution_count": null,
   "metadata": {},
   "outputs": [],
   "source": [
    "def get_annotations(accession_number, args, logger):\n",
    "\n",
    "    # check if accession number was provided\n",
    "    if accession_number == \"NA\":\n",
    "        logger.warning(\n",
    "            (\n",
    "                f\"Null value ('NA') was contained in cell for {accession_number},\"\n",
    "                \"exiting retrieval of protein data.\\nReturning null ('NA') value\"\n",
    "                \"for all protein data\"\n",
    "            )\n",
    "        )\n",
    "        return [\"NA\", \"NA\", \"NA\", \"NA\", \"NA\"]"
   ]
  },
  {
   "cell_type": "markdown",
   "metadata": {},
   "source": [
    "\n",
    "If an accession number is passed to the function, the associated GenBank file is retrieved, using the `get_genbank_file` function. \n",
    "\n",
    "\n",
    "If no GenBank file, multiple files or an empty file (i.e. is 0 bytes in size) is returned, null values are returned for all protein data for the accession number - the latter two tests are performed by `get_genbank_file`.\n"
   ]
  },
  {
   "cell_type": "code",
   "execution_count": null,
   "metadata": {},
   "outputs": [],
   "source": [
    "\n",
    "gb_file = get_genbank_file(\n",
    "        accession_number, args, logger\n",
    "\n",
    "    if gb_file is None:\n",
    "        # error logging performd in get_genbank_file()\n",
    "        return [\"NA\", \"NA\", \"NA\", \"NA\", \"NA\"]\n",
    "    "
   ]
  },
  {
   "cell_type": "markdown",
   "metadata": {},
   "source": [
    "\n",
    "If a GenBank file is retrieved, each recorded is parsed, retrieving the data from all 'CDS' features (i.e. all proteins) annotated within the GenBank file. The retrieval of the data for each feature is performed by the `get_record_feature` function.\n"
   ]
  },
  {
   "cell_type": "code",
   "execution_count": null,
   "metadata": {},
   "outputs": [],
   "source": [
    "\n",
    "    # Retrieve protein data from GenBank file\n",
    "    with gzip.open(gb_file, \"rt\") as handle:\n",
    "        # create list to store all protein data retrieved from GenBank file, making it a tuple\n",
    "        for gb_record in SeqIO.parse(handle, \"genbank\"):\n",
    "            for (index, feature) in enumerate(gb_record.features):\n",
    "                # empty protein data list so as not to contaminate data of next protein\n",
    "                protein_data = []\n",
    "                # Parse over only protein encoding features (type = 'CDS')\n",
    "                if feature.type == \"CDS\":\n",
    "                    # extract protein ID\n",
    "                    protein_data.append(\n",
    "                        get_record_feature(feature, \"protein_id\", logger)\n",
    "                    )\n",
    "                    # extract locus tag\n",
    "                    protein_data.append(\n",
    "                        get_record_feature(feature, \"locus_tag\", logger)\n",
    "                    )\n",
    "                    # extract location\n",
    "                    protein_data.append(get_record_feature(feature, \"location\", logger))\n",
    "                    # extract annotated function of product\n",
    "                    protein_data.append(get_record_feature(feature, \"product\", logger))\n",
    "                    # extract protein sequence\n",
    "                    protein_data.append(\n",
    "                        get_record_feature(feature, \"translation\", logger)\n",
    "                    )"
   ]
  },
  {
   "cell_type": "markdown",
   "metadata": {},
   "source": [
    "\n",
    "While still processing the GenBank file, it is checked if only null values (i.e. \"NA\" is returned for all protein data) or if an error occured and not all data was retrieved. In either case all null values are returned for the protein data. Otherwise the data retrieved from the GenBank file is returned to the `get_genbank_annotations` function for addition to the growing dataframe of all protein data for a given species.\n"
   ]
  },
  {
   "cell_type": "code",
   "execution_count": null,
   "metadata": {},
   "outputs": [],
   "source": [
    "\n",
    "    if len(protein_data) == 5:\n",
    "        # if null value was returned for every feature attribute log error\n",
    "        # and don't add to all_protein_data list\n",
    "        if protein_data == [\"NA\", \"NA\", \"NA\", \"NA\", \"NA\"]:\n",
    "            logger.warning(\n",
    "                f\"No data retrieved from CDS type feature, index: {index}\",\n",
    "                exc_info=1,\n",
    "            )\n",
    "        # if some data retrieved, add to all_protein_list\n",
    "        else:\n",
    "            all_protein_data.append(protein_data)\n",
    "\n",
    "    else:\n",
    "        # error occured in that one of the appending actions failed to append\n",
    "        # and would lead to misalignment in the dataframe if added to the\n",
    "        # all_protein_data list\n",
    "        logger.warning(\n",
    "            (\n",
    "                f\"Error occured during retrieval of data from feature, {index}\\n\"\n",
    "                f\"for {accession_number}. Returning no protein data\"\n",
    "            )\n",
    "        )\n",
    "\n",
    "return all_protein_data\n"
   ]
  }
 ],
 "metadata": {
  "kernelspec": {
   "display_name": "Python 3",
   "language": "python",
   "name": "python3"
  },
  "language_info": {
   "codemirror_mode": {
    "name": "ipython",
    "version": 3
   },
   "file_extension": ".py",
   "mimetype": "text/x-python",
   "name": "python",
   "nbconvert_exporter": "python",
   "pygments_lexer": "ipython3",
   "version": "3.7.6"
  }
 },
 "nbformat": 4,
 "nbformat_minor": 2
}
