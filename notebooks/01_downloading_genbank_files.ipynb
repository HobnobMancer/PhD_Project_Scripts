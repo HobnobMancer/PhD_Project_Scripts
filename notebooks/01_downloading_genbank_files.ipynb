{
 "cells": [
  {
   "cell_type": "markdown",
   "metadata": {},
   "source": [
    "# 01 Downloading GenBank files\n",
    "\n",
    "## pyrewton module genbank submodule get_ncbi_genomes\n",
    "\n",
    "This notebook describes the process of downloading GenBank files for all genomic assemblies associated with each species of interest.\n",
    "\n",
    "This notebook refers to the `pyrewton` submodule `get_ncbi_genomes`.\n"
   ]
  },
  {
   "cell_type": "code",
   "execution_count": null,
   "metadata": {},
   "outputs": [],
   "source": [
    "<div class=\"alert-warning\">\n",
    "<p></p>\n",
    "<b>Note:</b> the genomic assemblies are downloaded as GenBank Flat Files (.gbff). This format was chosen because it provides nucleotide sequences and annotation data, which includes the product of nucleotide sequence and unique identifier which can be used to find further information about the annotated object in NCBI-linked databases, such as [UniProtKB] (https://www.uniprot.org/). Additionally, the BioPython module [SeqIO](https://biopython.org/wiki/SeqIO), a standard ‘Sequence Input/Output’ interface for sequence handling Python scripts, facilitates the automated parsing of GenBank files (including GenBank Flat Files) and extraction of specified data (BioPython, 2020).\n",
    "<p></p>\n",
    "</div>"
   ]
  },
  {
   "cell_type": "markdown",
   "metadata": {},
   "source": [
    "<div class=\"alert-danger\">\n",
    "<p></p>\n",
    "<b>Note:</b> this notebook does not include the entirity of script code, but instead includes exerts to help illustrate the programme arcitecture and function. Specifically, the function _main_, which orchestrates the calling of functions to perform the overal operation of the script is excluded from this notebook, as well as logging and error checking.\n",
    "</div>\n",
    "<p></p>\n",
    "<div class=\"alert-danger\">    \n",
    "Additionally, in some instances sections of code have been removed, replaced by a comment to indicate the intent or function of the code and/or introduced later on in the notebook than is reflected in the code. This is to enable a detailed description of the code function at a more logical, and oppertune time.\n",
    "</div>\n",
    "<p></p>\n",
    "<div class=\"alert-success\">\n",
    "<p></p>\n",
    "<p>For the complete script, navigate to `pyrewton/genbank/get_ncbi_genomes` within the repository.</p>\n",
    "<p></p>\n",
    "</div>"
   ]
  },
  {
   "cell_type": "markdown",
   "metadata": {},
   "source": [
    "## Contents\n"
   ]
  },
  {
   "cell_type": "markdown",
   "metadata": {},
   "source": [
    "- [Operating the script](#linkoperating)\n",
    "- [Script input](#linkinput)\n",
    "- [Command line options](#linkcommand)\n",
    "- [Python imports](#linkimports)\n",
    "- [Parsing the input file and creating the dataframe](#linkparsing)\n",
    "    - [Scientific name and Taxonomy ID retrieval](#linkscientific)\n",
    "    - [Creating the dataframe](#linkcdf)\n",
    "- [Retrieving accession numbers](#linkretrieving)\n",
    "    -[Retrieval of assembly IDs](#linkassemblyids)\n",
    "    -[Retrieval of the accession numbers](#linkanretrieve)\n",
    "- [Downloading GenBank file](#linkgenbank)\n",
    "    - [Compiling the URL](#linkurl)\n",
    "    - [Downloading the GenBank file](#linkdownload)\n",
    "- [Writing out the dataframe](#linkoutdf)\n"
   ]
  },
  {
   "cell_type": "markdown",
   "metadata": {},
   "source": [
    "<a id=\"linkoperating\"><a/>"
   ]
  },
  {
   "cell_type": "markdown",
   "metadata": {},
   "source": [
    "## Operating the script\n",
    "\n",
    "The script `get_ncbi_genomes.py` is written as a command-line programme and thus is most easily operated via the command-line. The standard structure of the command-line call to operate the script is:\n",
    "`python3 Extract_genomes_NCBI.py -u <user email> <other options>`\n",
    "\n",
    "Multiple options are avilable to customise the operation of the script to the users needs. A full list of the available options are included in the README.\n",
    "\n",
    "A email address must be provided becuase this is a requirement to access the NCBI database remotely using `Entrez`.\n"
   ]
  },
  {
   "cell_type": "markdown",
   "metadata": {},
   "source": [
    "<div class=\"alert-info\">\n",
    "    For the dowloading of the GenBank files for the PhD project, the following code was run at the command-line:\n",
    "</div>\n",
    "\n",
    "> `python3 Extract_genomes_NCBI.py -u eemh1@st-andrews.ac.uk -i selected_species_list.txt -o 2020_05_31_GenBank_file_pulldown/ -l 2020_05_31_GB_file_download -v -d 2020_05_31_genome_dataframe.csv`"
   ]
  },
  {
   "cell_type": "markdown",
   "metadata": {},
   "source": [
    "<div class=\"alert-danger\">\n",
    "Note: Before using the script `get_ncbi_genomes.py` read the documentation for Entrez, taking care to note expected practises laid out under _'Frequency, Timing and Registration of E-utility URL Requests'_. Failing to meet the expected practises can result in restricted access or banned access to the Entrez utilitity.\n",
    "</div>\n",
    "\n",
    "Entrez documentation can be found at the following links:\n",
    "- ['Entrez documentation'](https://www.ncbi.nlm.nih.gov/books/NBK25497/)\n",
    "- ['BioPython Entrez modeul documentation'](https://biopython.org/DIST/docs/api/Bio.Entrez-module.html)"
   ]
  },
  {
   "cell_type": "markdown",
   "metadata": {},
   "source": [
    "<a id=\"linkinput\"><a/>"
   ]
  },
  {
   "cell_type": "markdown",
   "metadata": {},
   "source": [
    "## Script input\n",
    "\n",
    "The script takes a plain text file as input, containing a list of the species of interst. Each line contains a unique species, identified by their scientific name or NCIB taxonomy ID (including the 'NCBI:txid' prefix). An input file template can be found within the `get_ncbi_genomes` directory within the repository.\n"
   ]
  },
  {
   "cell_type": "markdown",
   "metadata": {},
   "source": [
    "<div class=\\\"alert alert-warning\\\">\n",
    "For the downloading of the GenBank files for the PhD project, the file `selected_species_list.txt` within the `get_ncbi_genomes` directory was used as the input file.\n",
    "</div>"
   ]
  },
  {
   "cell_type": "markdown",
   "metadata": {},
   "source": [
    "<a id=\"linkcommand\"><a/>"
   ]
  },
  {
   "cell_type": "markdown",
   "metadata": {},
   "source": [
    "## Command-line options\n",
    "\n",
    "The script is designed as command-line programme, and thus operation of the script is customisable by passing arguments from the command-line.\n",
    "\n",
    "**Compulsory argument**<br>\n",
    "The option `-u` or `--user` <font color=red>**must**</font> be used in order to provider the users email address, becuase this is a requiremnt for Entrez which is used to call to NCBI.\n",
    "\n",
    "**Optional arguments**<br>\n",
    "\n",
    "`-d, --dataframe`<br>\n",
    "&emsp;&emsp;Specify output path for dataframe (include file extensions). If not provided dataframe will be written out to STDOUT.\n",
    "\n",
    "`-f, --force`<br>\n",
    "&emsp;&emsp;Enable writting in specificed output directory if output directory already exists.\n",
    "\n",
    "`-g, --genbank`<br>\n",
    "&emsp;&emsp;Enable or disable downloading of GenBank files.\n",
    "\n",
    "`-h, --help`<br>\n",
    "&emsp;&emsp;Display help messages and exit\n",
    "\n",
    "`-i, --input`<br>\n",
    "&emsp;&emsp;Specify path to input filename (include extension) input file. If not given input will be taken from STDIN.\n",
    "\n",
    "`-l, --log`<br>\n",
    "&emsp;&emsp;Specify name of log file (include extension). If not option is given no log file will be written out,\n",
    "however, logs will still be printed to the terminal.\n",
    "\n",
    "`-n, --nodelete`<br>\n",
    "&emsp;&emsp;Enable not deleting files in existing output directory. If not enabled, output directory exists and writing in output directory is 'forced' then files in output directory will not be deleted, and new files will be written to the output directory.\n",
    "\n",
    "`-o, --output`<br>\n",
    "&emsp;&emsp;Specify filename (including extension) of output file. If not given output will be wrtten to STDOUT.\n",
    "If only the filename is given, Extract_genomes_NCBI.py\n",
    "\n",
    "`-r, --retries`<br>\n",
    "&emsp;&emsp;Specifiy maximum number of retries of trying to call to NCBI before cancelling retrying call to NCBI. The default is a maximum of 10 retries. \n",
    "\n",
    "`-t, --timeout`<br>\n",
    "&emsp;&emsp;Specify timeout limit of URL connection when downloading GenBank files. Default is 10 seconds.\n",
    "\n",
    "`-v, --verbose`<br>\n",
    "&emsp;&emsp;Enable verbose logging - changes logger level from WARNING to INFO."
   ]
  },
  {
   "cell_type": "markdown",
   "metadata": {},
   "source": [
    "<a id=\"linkimports\"><a/>"
   ]
  },
  {
   "cell_type": "markdown",
   "metadata": {},
   "source": [
    "## Python imports"
   ]
  },
  {
   "cell_type": "code",
   "execution_count": null,
   "metadata": {
    "scrolled": true
   },
   "outputs": [],
   "source": [
    "import argparse\n",
    "import logging\n",
    "import re\n",
    "import shutil\n",
    "import sys\n",
    "import time\n",
    "\n",
    "from pathlib import Path\n",
    "from socket import timeout\n",
    "from typing import List, Optional\n",
    "from urllib.error import HTTPError, URLError\n",
    "from urllib.request import urlopen\n",
    "\n",
    "import pandas as pd\n",
    "\n",
    "from Bio import Entrez\n",
    "from tqdm import tqdm\n"
   ]
  },
  {
   "cell_type": "markdown",
   "metadata": {},
   "source": [
    "<a id=\"linkparsing\"><a/>"
   ]
  },
  {
   "cell_type": "markdown",
   "metadata": {},
   "source": [
    "## Parsing the input file and creating the dataframe\n",
    "\n",
    "The input file is either taken from STDIN or if a path was provided at the command-line, it is taken from where the path directs.\n",
    "\n",
    "Opening and parsing of the input file is performed by the function `parse_input_file`.\n",
    "\n",
    "Initially, it is checked that the path to the input file is valid and if not, the programme terminates. \n",
    "Afterwards, the file is opened, and parsed line-by-line."
   ]
  },
  {
   "cell_type": "code",
   "execution_count": null,
   "metadata": {
    "scrolled": true
   },
   "outputs": [],
   "source": [
    "def parse_input_file(input_filename, logger, retries):\n",
    "    \n",
    "    # test path to input file exists, if not exit programme\n",
    "    if not input_filename.is_file():\n",
    "        # report to user and exit programme\n",
    "    \n",
    "    # if path to input file exists proceed\n",
    "    # parse input file\n",
    "    with open(input_filename) as file:\n",
    "        input_list = file.read().splitlines()\n",
    "\n",
    "    # Parse input, retrieving tax ID or scientific name as appropriate\n",
    "    line_count = 0\n",
    "    for line in tqdm(input_list, desc=\"Reading lines\"):\n",
    "        line_count += 1\n",
    "\n",
    "        if line.startswith(\"#\"):\n",
    "            continue\n",
    "\n",
    "        line_data = parse_line(line, logger, line_count, retries)\n",
    "        all_species_data.append(line_data)\n",
    "\n",
    "    # create dataframe containing three columns: 'Genus', 'Species', 'NCBI Taxonomy ID'\n",
    "    species_table = pd.DataFrame(\n",
    "        all_species_data, columns=[\"Genus\", \"Species\", \"NCBI Taxonomy ID\"]\n",
    "    )\n",
    "    return species_table\n"
   ]
  },
  {
   "cell_type": "markdown",
   "metadata": {},
   "source": [
    "The function `parse_line` coordinates the approrpiate calling of functions to retrieve the NCBI taxonomy ID if the scientific name is provided, retrieve the scientific name if the taxonomy ID is provided or perform no function if a comment is passed (indicated by the starting line character '#').\n",
    "\n",
    "The scientific name and taxonomy ID is stored as a single list for each species. This list contains the 3 elements:\n",
    "- The species 'Genus' name\n",
    "- The species 'Species' name\n",
    "- The species taxonomy ID (including the 'NCBI:txid' prefix).\n",
    "\n",
    "The list is returned by the function and added to the tuple `all_species_data` within the `parse_input_file` function. This creates a tuple, with each element containing the indentification data for a unique species.\n"
   ]
  },
  {
   "cell_type": "code",
   "execution_count": null,
   "metadata": {
    "scrolled": true
   },
   "outputs": [],
   "source": [
    "def parse_line(line, logger, line_count, retries):\n",
    "    \n",
    "    # For taxonomy ID retrieve scientific name\n",
    "    if line.startswith(\"NCBI:txid\"):\n",
    "        gs_name = get_genus_species_name(line[9:], logger, line_count, retries)\n",
    "        line_data = gs_name.split()\n",
    "        line_data.append(line)\n",
    "        \n",
    "    # For scientific name retrieve taxonomy ID\n",
    "    else:\n",
    "        tax_id = get_tax_id(line, logger, line_count, retries)\n",
    "        line_data = line.split()\n",
    "        line_data.append(tax_id)\n",
    "\n",
    "    return line_data\n"
   ]
  },
  {
   "cell_type": "markdown",
   "metadata": {},
   "source": [
    "<a id=\"linkscientific\"><a/>"
   ]
  },
  {
   "cell_type": "markdown",
   "metadata": {},
   "source": [
    "### Scientific name and Taxonomy ID retrieval\n",
    "\n",
    "The retrieval of the scientific names and taxonomy ID from the NCBI Taxonomy databased is performed by the functions `get_genus_species_name` and `get_taxonomy_ID`.\n",
    "\n",
    "Each function calls to the NCBI Taxonomy database using entrez.\n"
   ]
  },
  {
   "cell_type": "markdown",
   "metadata": {},
   "source": [
    "<div class=\"alert-danger\">\n",
    "If the retrieval of scientific name or taxonomy ID fails, the null value 'NA' is returned.\n",
    "The retreieval of scientific name has the additional test to check if the 'name' passed to the function contains any numbers. IF so the null value is returned 'NA', the most common cause for this is a typo in the scientific name or exclusion of the taxonomy ID prefix 'NCBI:txid' in the taxonomy ID written in the input.\n",
    "More detail on the probably causes of common errors is discussed in the projects README.md file.\n",
    "</div>"
   ]
  },
  {
   "cell_type": "code",
   "execution_count": null,
   "metadata": {
    "scrolled": true
   },
   "outputs": [],
   "source": [
    "def get_genus_species_name(taxonomy_id, logger, line_number, retries):\n",
    "\n",
    "    # Retrieve scientific name\n",
    "    with entrez_retry(\n",
    "        logger, retries, Entrez.efetch, db=\"Taxonomy\", id=taxonomy_id, retmode=\"xml\"\n",
    "    ) as handle:\n",
    "        record = Entrez.read(handle)\n",
    "\n",
    "    # extract scientific name from record\n",
    "    try:\n",
    "        return record[0][\"ScientificName\"]\n",
    "\n",
    "    except IndexError:\n",
    "        # log error and return null value 'NA'\n",
    "        return \"NA\"\n",
    "\n",
    "\n",
    "def get_tax_id(genus_species, logger, line_number, retries):\n",
    "    # check for potential mistake in taxonomy ID prefix\n",
    "    if re.search(r\"\\d\", genus_species):\n",
    "        # log warning that numbers were found in line which was identified as a scientific name\n",
    "        return \"NA\"\n",
    "\n",
    "    else:\n",
    "        with entrez_retry(\n",
    "            logger, retries, Entrez.esearch, db=\"Taxonomy\", term=genus_species\n",
    "        ) as handle:\n",
    "            record = Entrez.read(handle)\n",
    "\n",
    "    # extract taxonomy ID from record\n",
    "    try:\n",
    "        return \"NCBI:txid\" + record[\"IdList\"][0]\n",
    "\n",
    "    except IndexError:\n",
    "        # log error\n",
    "        return \"NA\"\n"
   ]
  },
  {
   "cell_type": "markdown",
   "metadata": {},
   "source": [
    "<a id=\"linkcdf\"><a/>"
   ]
  },
  {
   "cell_type": "markdown",
   "metadata": {},
   "source": [
    "### Creating the dataframe\n",
    "\n",
    "The `pandas` module is used to create a dataframe, within the `parse_input_file` function, with three columns:\n",
    "- Genus\n",
    "- Species\n",
    "- NCBI Taxonomy ID\n",
    "With a unique species per line.\n",
    "\n",
    "`Pandas` enables easier and faster storage and malipulation of dataframes than other table creating packages. More information is [available at](https://pandas.pydata.org/).\n",
    "\n",
    "The dataframe (`species_table`) is returned to the function `main`."
   ]
  },
  {
   "cell_type": "code",
   "execution_count": null,
   "metadata": {
    "scrolled": true
   },
   "outputs": [],
   "source": [
    "    species_table = pd.DataFrame(\n",
    "        all_species_data, columns=[\"Genus\", \"Species\", \"NCBI Taxonomy ID\"]\n",
    "    )\n",
    "    return species_table"
   ]
  },
  {
   "cell_type": "markdown",
   "metadata": {},
   "source": [
    "<a id=\"linkretrieving\"><a/>"
   ]
  },
  {
   "cell_type": "markdown",
   "metadata": {},
   "source": [
    "## Retrieving accession numbers\n",
    "\n",
    "The `pandas` module allows simultanous applying of a function to a dataframe, iterating over a given axis (row or column). This results in a 100-times faster processing of the dataframe than using a traditional Pythonic `for loop`. Therefore, the `pandas apply` function is used to retrieve the accession numbers of all genomic assemblies associated with each taxonomy ID within the `species_table` dataframe; this is completed by calling the function `get_accession_numbers`, and retrieved accession numbers are stored in a new column in the dataframe: `NCBI Accession Numbers`.\n"
   ]
  },
  {
   "cell_type": "markdown",
   "metadata": {},
   "source": [
    "<div class=\"alert-warning\">\n",
    "Entrez will only retrieve the accession numbers of genomic assembly entries, within the NCBI Assembly database, which are **directly** linked to the taxonomy entry (identified by its taxonomy ID); it will not return accession numbers for genomic assembly entries which are **subtree** linked.\n",
    "\n",
    "**Directly** linked entries are those that have the organism assigned as the source organism for the data.<br>\n",
    "**Subtree** linked entries are those record assocated with taxonomy node, and all nodes which are underneath.\n",
    "\n",
    "Browsing a taxonomy entry witihn the NCBI Taxonomy database via the browser will quickly identify if any genomic assemblies have been directly linked.\n",
    "</div>"
   ]
  },
  {
   "cell_type": "markdown",
   "metadata": {},
   "source": [
    "<div class=\"alert-danger\">\n",
    "As before, if the retrieval of the asseccion numbers fails at any point, the null value 'NA' is returned, and the retrieval of the accession numbers is exited.\n",
    "\n",
    "If the taxonomy ID was failed to be retrieved previously (and was thus stored as 'NA') a null value of 'NA' will automatically be returned for accession numbers'.\n",
    "</div>"
   ]
  },
  {
   "cell_type": "code",
   "execution_count": null,
   "metadata": {
    "scrolled": true
   },
   "outputs": [],
   "source": [
    "species_table[\"NCBI Accession Numbers\"] = species_table.apply(\n",
    "    get_accession_numbers, args=(logger, args), axis=1\n",
    ")\n"
   ]
  },
  {
   "cell_type": "markdown",
   "metadata": {},
   "source": [
    "The `pandas apply` function passes a `pandas series` with each element (or cell within the dataframe) accessible via an index number, similar to accessing an element in a list.\n",
    "\n",
    "- df_row[0]: Genus\n",
    "- df_row[1]: Species\n",
    "- df_row[2]: Taxonomy ID\n"
   ]
  },
  {
   "cell_type": "markdown",
   "metadata": {},
   "source": [
    "<a id=\"linkassemblyids\"><a/>"
   ]
  },
  {
   "cell_type": "markdown",
   "metadata": {},
   "source": [
    "### Retrieval of assembly IDs"
   ]
  },
  {
   "cell_type": "markdown",
   "metadata": {},
   "source": [
    "`Entrez` is used to perform the call to the NCBI Assembly database. Owing to the taxonomy IDs for a species being stored within the NCBI Taxonomy database the `Entrez` function `elink` is used to retrieve the IDs of all genomic assemblies within the NCBI Assebmly database that are linked with the species NCBI Taxonomy database entry.\n"
   ]
  },
  {
   "cell_type": "code",
   "execution_count": null,
   "metadata": {
    "scrolled": true
   },
   "outputs": [],
   "source": [
    "def get_accession_numbers(df_row, logger, args):\n",
    "        with entrez_retry(\n",
    "        logger,\n",
    "        args.retries,\n",
    "        Entrez.elink,\n",
    "        dbfrom=\"Taxonomy\",\n",
    "        id=df_row[2][9:],\n",
    "        db=\"Assembly\",\n",
    "        linkname=\"taxonomy_assembly\",\n",
    "    ) as assembly_number_handle:\n",
    "        assembly_number_record = Entrez.read(assembly_number_handle)"
   ]
  },
  {
   "cell_type": "markdown",
   "metadata": {},
   "source": [
    "This retrieves a list of IDs for all genomic assemblies associated with the taxonomy ID. To minimus the number of calls to the NCBI database, the list of IDs is posted as a single query to NCBI using `Entrez`, of which the web environment and query key is retrieved to facilitate the retrieval of the accession numbers of the identified genomic assemblies."
   ]
  },
  {
   "cell_type": "code",
   "execution_count": null,
   "metadata": {
    "scrolled": true
   },
   "outputs": [],
   "source": [
    "    # compile list of ids in suitable format for epost\n",
    "    id_post_list = str(\",\".join(assembly_id_list))\n",
    "    # Post all assembly IDs to Entrez-NCBI for downstream pulldown of accession numbers\n",
    "    epost_search_results = Entrez.read(\n",
    "        entrez_retry(logger, args.retries, Entrez.epost, \"Assembly\", id=id_post_list)\n",
    "    )\n",
    "\n",
    "    # Retrieve web environment and query key from Entrez epost\n",
    "    epost_webenv = epost_search_results[\"WebEnv\"]\n",
    "    epost_query_key = epost_search_results[\"QueryKey\"]"
   ]
  },
  {
   "cell_type": "markdown",
   "metadata": {},
   "source": [
    "<a id=\"linkanretrieve\"><a/>"
   ]
  },
  {
   "cell_type": "markdown",
   "metadata": {},
   "source": [
    "### Retrieval of the accession numbers"
   ]
  },
  {
   "cell_type": "markdown",
   "metadata": {},
   "source": [
    "`Entrez` is used again for retrieval the accession numbers from the previously posted query. The accession numbers are collated into a single list, which is then converted into a string, this prevents the appearance of list book ending sequare brackets `[]` within the final dataframe."
   ]
  },
  {
   "cell_type": "code",
   "execution_count": null,
   "metadata": {
    "scrolled": true
   },
   "outputs": [],
   "source": [
    "ncbi_accession_numbers_list = []\n",
    "\n",
    "    with entrez_retry(\n",
    "        logger,\n",
    "        args.retries,\n",
    "        Entrez.efetch,\n",
    "        db=\"Assembly\",\n",
    "        query_key=epost_query_key,\n",
    "        WebEnv=epost_webenv,\n",
    "        rettype=\"docsum\",\n",
    "        retmode=\"xml\",\n",
    "    ) as accession_handle:\n",
    "        accession_record = Entrez.read(accession_handle, validate=False)\n",
    "\n",
    "\n",
    "    # Extract accession numbers from document summary\n",
    "    for index_number in tqdm(\n",
    "        range(len(accession_record[\"DocumentSummarySet\"][\"DocumentSummary\"])),\n",
    "        desc=f\"Retrieving accessions ({df_row[2]})\",\n",
    "    ):\n",
    "        try:\n",
    "            new_accession_number = accession_record[\"DocumentSummarySet\"][\n",
    "                \"DocumentSummary\"\n",
    "            ][index_number][\"AssemblyAccession\"]\n",
    "            ncbi_accession_numbers_list.append(new_accession_number)\n",
    "\n",
    "        except IndexError:\n",
    "            # log error and return null value\n",
    "            return \"NA\"\n",
    "        \n",
    "        # Download genbank file for genomic assemble entry\n",
    "\n",
    "        index_number += 1\n",
    "\n",
    "    # Process accession numbers into human readable list for dataframe\n",
    "    ncbi_accession_numbers = \", \".join(ncbi_accession_numbers_list)\n",
    "\n",
    "    return ncbi_accession_numbers\n"
   ]
  },
  {
   "cell_type": "markdown",
   "metadata": {},
   "source": [
    "<a id=\"linkgenbank\"><a/>"
   ]
  },
  {
   "cell_type": "markdown",
   "metadata": {},
   "source": [
    "## Downloading GenBank files"
   ]
  },
  {
   "cell_type": "markdown",
   "metadata": {},
   "source": [
    "Prior to adding the newly retrieved accession number to the growing list of all accession numbers for a specific species, a check is performed to see if the the downloading of the GenBank file (.gbff) of the genomic assembly entry is enabled.\n",
    "\n",
    "If enabled, the downloading of the GenBank file is initated by calling the `get_genbank_files` function."
   ]
  },
  {
   "cell_type": "code",
   "execution_count": null,
   "metadata": {
    "scrolled": true
   },
   "outputs": [],
   "source": [
    "        # If downloading of GenBank files is enabled, download Genbank files\n",
    "        if args.genbank is True:\n",
    "            get_genbank_files(\n",
    "                new_accession_number,\n",
    "                accession_record[\"DocumentSummarySet\"][\"DocumentSummary\"][index_number][\n",
    "                    \"AssemblyName\"\n",
    "                ],\n",
    "                logger,\n",
    "                args,\n",
    "            )\n",
    "            \n",
    "            \n",
    "def get_genbank_files(\n",
    "    accession_number,\n",
    "    assembly_name,\n",
    "    logger,\n",
    "    args,\n",
    "    suffix=\"genomic.gbff.gz\",\n",
    "):"
   ]
  },
  {
   "cell_type": "markdown",
   "metadata": {},
   "source": [
    "The downloading of any file requires a URL address from which to download a file, and an output path to write the downloaded data too. The creation of both is orchestrated by the `get_genbank_files` function.\n"
   ]
  },
  {
   "cell_type": "code",
   "execution_count": null,
   "metadata": {
    "scrolled": true
   },
   "outputs": [],
   "source": [
    "def get_genbank_files(\n",
    "    accession_number,\n",
    "    assembly_name,\n",
    "    logger,\n",
    "    args,\n",
    "    suffix=\"genomic.gbff.gz\",\n",
    "):\n",
    "    \n",
    "    # compile url for download\n",
    "    genbank_url, filestem = compile_url(accession_number, assembly_name, logger, suffix)\n",
    "\n",
    "    # if downloaded file is not to be written to STDOUT, compile output path\n",
    "    if args.output is not sys.stdout:\n",
    "        out_file_path = args.output / \"_\".join([filestem.replace(\".\", \"_\"), suffix])\n",
    "    else:\n",
    "        out_file_path = args.output\n",
    "\n",
    "    # download GenBank file\n",
    "    download_file(\n",
    "        genbank_url, args, out_file_path, logger, accession_number, \"GenBank file\",\n",
    "    )\n",
    "\n",
    "    return\n"
   ]
  },
  {
   "cell_type": "markdown",
   "metadata": {},
   "source": [
    "<a id=\"linkurl\"><a/>"
   ]
  },
  {
   "cell_type": "markdown",
   "metadata": {},
   "source": [
    "### Compiling the URL\n",
    "\n",
    "NCBI records can include a variety of escape characters within its records, but requires all escape characters to be written as underscores within its URLs. The `regular expression` module of Python is used to replace any escape charcters with underscords, prior to compiling the URL.\n",
    "\n",
    "<div class=\"alert-warning\">NCBI genomic assembly files are avaialble for download from the NCBI FTP site hence the prefix (the ftpstem) and structure of the compiled URL does not match the structure of the URL when searching the NCBI Assembly database in-browser.</div>\n"
   ]
  },
  {
   "cell_type": "code",
   "execution_count": null,
   "metadata": {
    "scrolled": true
   },
   "outputs": [],
   "source": [
    "def compile_url(\n",
    "    accession_number,\n",
    "    assembly_name,\n",
    "    logger,\n",
    "    suffix,\n",
    "    ftpstem=\"ftp://ftp.ncbi.nlm.nih.gov/genomes/all\",\n",
    "):\n",
    "   \n",
    "    # Extract assembly name, removing alterantive escape characters\n",
    "    escape_characters = re.compile(r\"[\\s/,#\\(\\)]\")\n",
    "    escape_name = re.sub(escape_characters, \"_\", assembly_name)\n",
    "\n",
    "    # compile filstem\n",
    "    filestem = \"_\".join([accession_number, escape_name])\n",
    "\n",
    "    # separate out filesteam into GCstem, accession number intergers and discarded\n",
    "    url_parts = tuple(filestem.split(\"_\", 2))\n",
    "\n",
    "    # separate identifying numbers from version number\n",
    "    sub_directories = \"/\".join(\n",
    "        [url_parts[1][i : i + 3] for i in range(0, len(url_parts[1].split(\".\")[0]), 3)]\n",
    "    )\n",
    "\n",
    "    # return url for downloading file\n",
    "    return (\n",
    "        \"{0}/{1}/{2}/{3}/{3}_{4}\".format(\n",
    "            ftpstem, url_parts[0], sub_directories, filestem, suffix\n",
    "        ),\n",
    "        filestem,\n",
    "    )\n"
   ]
  },
  {
   "cell_type": "markdown",
   "metadata": {},
   "source": [
    "<a id=\"linkdownload\"><a/>"
   ]
  },
  {
   "cell_type": "markdown",
   "metadata": {},
   "source": [
    "### Downloading the GenBank file\n",
    "\n",
    "The downloading of the GenBank file is initated with calling the `download_file` function.\n",
    "\n",
    "The URL connection is coordinated by the Python `urllib` module ([Documentation found here](https://docs.python.org/3/library/urllib.html).\n",
    "\n",
    "The Python `tqdm` module is also used provide a visual log of the download progress in the terminal.\n"
   ]
  },
  {
   "cell_type": "code",
   "execution_count": null,
   "metadata": {
    "scrolled": true
   },
   "outputs": [],
   "source": [
    "# Try URL connection\n",
    "    try:\n",
    "        response = urlopen(genbank_url, timeout=args.timeout)\n",
    "    except HTTPError, URLError, timeout:\n",
    "        # log error and exit downloading of GenBank file\n",
    "        return\n",
    "\n",
    "    if out_file_path.exists():\n",
    "        logger.warning(f\"Output file {out_file_path} exists, not downloading\")\n",
    "        \n",
    "    else:\n",
    "        # Download file\n",
    "        file_size = int(response.info().get(\"Content-length\"))\n",
    "        bsize = 1_048_576\n",
    "        \n",
    "        try:\n",
    "            with open(out_file_path, \"wb\") as out_handle:\n",
    "                # Using leave=False as this will be an internally-nested progress bar\n",
    "                with tqdm(\n",
    "                    total=file_size,\n",
    "                    leave=False,\n",
    "                    desc=f\"Downloading {accession_number} {file_type}\",\n",
    "                ) as pbar:\n",
    "                    while True:\n",
    "                        buffer = response.read(bsize)\n",
    "                        if not buffer:\n",
    "                            break\n",
    "                        pbar.update(len(buffer))\n",
    "                        out_handle.write(buffer)\n",
    "\n",
    "        return\n",
    "    "
   ]
  },
  {
   "cell_type": "markdown",
   "metadata": {},
   "source": [
    "<a id=\"linkoutdf\"><a/>"
   ]
  },
  {
   "cell_type": "markdown",
   "metadata": {},
   "source": [
    "## Writing out the dataframe\n",
    "\n",
    "If the option to write out the dataframe to a file, rather than STDOUT, is enabled, the function `write_out_dataframe` will be called.\n",
    "\n",
    "The dataframe is written out as a .csv file (column-separated values format), to allow the opening and reading of the file by several packages including Microsoft Offic Excel, as well as easy parsing of the dataframe by other `pandas` using Python scripts.\n",
    "\n",
    "<div class=\"alert-danger\">\n",
    "When providing the output path for the .csv file, make sure to include the .csv extention. This will not prevent file being written out but when the file is written out it will be missing the '.csv' extention in its path otherwise.\n",
    "</div>\n"
   ]
  },
  {
   "cell_type": "code",
   "execution_count": null,
   "metadata": {
    "scrolled": true
   },
   "outputs": [],
   "source": [
    "def write_out_dataframe(species_table, logger, outdir, force, nodelete):\n",
    "\n",
    "    # Check if overwrite of existing directory will occur\n",
    "    logger.info(\"Checking if output directory for dataframe already exists\")\n",
    "    if outdir.exists():\n",
    "        if force is False:\n",
    "            logger.warning(\n",
    "                \"Specified directory for dataframe already exists.\\nExiting writing out dataframe.\"\n",
    "            )\n",
    "            return ()\n",
    "        else:\n",
    "            logger.warning(\n",
    "                \"Specified directory for dataframe already exists.\\nForced overwritting enabled.\"\n",
    "            )\n",
    "\n",
    "    # Check if user included .csv file extension\n",
    "    if outdir.endswith(\".csv\"):\n",
    "        species_table.to_csv(outdir)\n",
    "    else:\n",
    "        out_df = outdir + \".csv\"\n",
    "        species_table.to_csv(out_df)\n",
    "\n",
    "    return"
   ]
  },
  {
   "cell_type": "markdown",
   "metadata": {},
   "source": [
    "<div class=\\\"alert alert-warning\\\">\n",
    "For the downloading of GenBank files for the project, the dataframe was written out to '2020_05_31_genomes_dataframe.csv', stored within the same directory as the script (get_ncbi_genomes). The following dataframe was written:\n",
    "</div>"
   ]
  },
  {
   "cell_type": "code",
   "execution_count": 6,
   "metadata": {
    "scrolled": false
   },
   "outputs": [
    {
     "data": {
      "text/html": [
       "<div>\n",
       "<style scoped>\n",
       "    .dataframe tbody tr th:only-of-type {\n",
       "        vertical-align: middle;\n",
       "    }\n",
       "\n",
       "    .dataframe tbody tr th {\n",
       "        vertical-align: top;\n",
       "    }\n",
       "\n",
       "    .dataframe thead th {\n",
       "        text-align: right;\n",
       "    }\n",
       "</style>\n",
       "<table border=\"1\" class=\"dataframe\">\n",
       "  <thead>\n",
       "    <tr style=\"text-align: right;\">\n",
       "      <th></th>\n",
       "      <th>Genus</th>\n",
       "      <th>Species</th>\n",
       "      <th>NCBI Taxonomy ID</th>\n",
       "      <th>NCBI Accession Numbers</th>\n",
       "    </tr>\n",
       "  </thead>\n",
       "  <tbody>\n",
       "    <tr>\n",
       "      <th>0</th>\n",
       "      <td>Aspergillus</td>\n",
       "      <td>fumigatus</td>\n",
       "      <td>NCBI:txid746128</td>\n",
       "      <td>GCA_012656185.1, GCA_012656215.1, GCA_01265616...</td>\n",
       "    </tr>\n",
       "    <tr>\n",
       "      <th>1</th>\n",
       "      <td>Aspergillus</td>\n",
       "      <td>nidulans</td>\n",
       "      <td>NCBI:txid162425</td>\n",
       "      <td>GCA_011075025.1, GCA_011074995.1</td>\n",
       "    </tr>\n",
       "    <tr>\n",
       "      <th>2</th>\n",
       "      <td>Aspergillus</td>\n",
       "      <td>niger</td>\n",
       "      <td>NCBI:txid5061</td>\n",
       "      <td>GCA_011316255.1, GCA_009812365.1, GCA_00463431...</td>\n",
       "    </tr>\n",
       "    <tr>\n",
       "      <th>3</th>\n",
       "      <td>Aspergillus</td>\n",
       "      <td>sydowii</td>\n",
       "      <td>NCBI:txid75750</td>\n",
       "      <td>GCA_009828905.1, GCA_009193685.1</td>\n",
       "    </tr>\n",
       "    <tr>\n",
       "      <th>4</th>\n",
       "      <td>Fusarium</td>\n",
       "      <td>graminearum</td>\n",
       "      <td>NCBI:txid5518</td>\n",
       "      <td>GCA_012959185.1, GCA_006942295.1, GCA_90049270...</td>\n",
       "    </tr>\n",
       "    <tr>\n",
       "      <th>5</th>\n",
       "      <td>Fusarium</td>\n",
       "      <td>oxysporum</td>\n",
       "      <td>NCBI:txid5507</td>\n",
       "      <td>GCA_011428085.1, GCA_011426355.1, GCA_01142633...</td>\n",
       "    </tr>\n",
       "    <tr>\n",
       "      <th>6</th>\n",
       "      <td>Fusarium</td>\n",
       "      <td>proliferatum</td>\n",
       "      <td>NCBI:txid948311</td>\n",
       "      <td>GCA_003709405.1, GCA_003705095.1, GCA_00370496...</td>\n",
       "    </tr>\n",
       "    <tr>\n",
       "      <th>7</th>\n",
       "      <td>Magnaporthe</td>\n",
       "      <td>grisea</td>\n",
       "      <td>NCBI:txid148305</td>\n",
       "      <td>GCF_004355905.1, GCA_003933175.1, GCA_00292524...</td>\n",
       "    </tr>\n",
       "    <tr>\n",
       "      <th>8</th>\n",
       "      <td>Magnaporthe</td>\n",
       "      <td>oryzae</td>\n",
       "      <td>NCBI:txid318829</td>\n",
       "      <td>GCA_012979135.1, GCA_012978465.1, GCA_01297841...</td>\n",
       "    </tr>\n",
       "    <tr>\n",
       "      <th>9</th>\n",
       "      <td>Mycosphaerella</td>\n",
       "      <td>graminicola</td>\n",
       "      <td>NCBI:txid1047171</td>\n",
       "      <td>GCA_902712725.1, GCA_003613095.1, GCA_00361118...</td>\n",
       "    </tr>\n",
       "    <tr>\n",
       "      <th>10</th>\n",
       "      <td>Rhynchosporium</td>\n",
       "      <td>agropyri</td>\n",
       "      <td>NCBI:txid914238</td>\n",
       "      <td>GCA_900074905.1</td>\n",
       "    </tr>\n",
       "    <tr>\n",
       "      <th>11</th>\n",
       "      <td>Rhynchosporium</td>\n",
       "      <td>commune</td>\n",
       "      <td>NCBI:txid914237</td>\n",
       "      <td>GCA_900074885.1</td>\n",
       "    </tr>\n",
       "    <tr>\n",
       "      <th>12</th>\n",
       "      <td>Rhynchosporium</td>\n",
       "      <td>secalis</td>\n",
       "      <td>NCBI:txid38038</td>\n",
       "      <td>GCA_900074895.1</td>\n",
       "    </tr>\n",
       "    <tr>\n",
       "      <th>13</th>\n",
       "      <td>Trichoderma</td>\n",
       "      <td>asperellum</td>\n",
       "      <td>NCBI:txid101201</td>\n",
       "      <td>GCA_004154885.1, GCA_000733085.2</td>\n",
       "    </tr>\n",
       "    <tr>\n",
       "      <th>14</th>\n",
       "      <td>Trichoderma</td>\n",
       "      <td>atroviride</td>\n",
       "      <td>NCBI:txid63577</td>\n",
       "      <td>GCA_002916895.1, GCA_001599035.1, GCA_000963795.1</td>\n",
       "    </tr>\n",
       "    <tr>\n",
       "      <th>15</th>\n",
       "      <td>Trichoderma</td>\n",
       "      <td>citrinoviride</td>\n",
       "      <td>NCBI:txid58853</td>\n",
       "      <td>GCF_003025115.1</td>\n",
       "    </tr>\n",
       "    <tr>\n",
       "      <th>16</th>\n",
       "      <td>Trichoderma</td>\n",
       "      <td>harzianum</td>\n",
       "      <td>NCBI:txid5544</td>\n",
       "      <td>GCA_010015525.1, GCA_002894145.1, GCA_00283884...</td>\n",
       "    </tr>\n",
       "    <tr>\n",
       "      <th>17</th>\n",
       "      <td>Trichoderma</td>\n",
       "      <td>reesei</td>\n",
       "      <td>NCBI:txid51453</td>\n",
       "      <td>GCA_004762065.1, GCA_001999515.1</td>\n",
       "    </tr>\n",
       "    <tr>\n",
       "      <th>18</th>\n",
       "      <td>Ustilago</td>\n",
       "      <td>maydis</td>\n",
       "      <td>NCBI:txid5270</td>\n",
       "      <td>GCA_001736185.1, GCA_001736215.1, GCA_00173615...</td>\n",
       "    </tr>\n",
       "    <tr>\n",
       "      <th>19</th>\n",
       "      <td>Ustilago</td>\n",
       "      <td>bromivora</td>\n",
       "      <td>NCBI:txid307758</td>\n",
       "      <td>GCA_900101485.1, GCA_900080155.1</td>\n",
       "    </tr>\n",
       "    <tr>\n",
       "      <th>20</th>\n",
       "      <td>Albugo</td>\n",
       "      <td>candida</td>\n",
       "      <td>NCBI:txid65357</td>\n",
       "      <td>GCA_000326065.1, GCA_000326045.1, GCA_00130677...</td>\n",
       "    </tr>\n",
       "    <tr>\n",
       "      <th>21</th>\n",
       "      <td>Hyaloperonospora</td>\n",
       "      <td>arabidopsidis</td>\n",
       "      <td>NCBI:txid272952</td>\n",
       "      <td>GCA_001414525.1, GCA_001414265.1</td>\n",
       "    </tr>\n",
       "    <tr>\n",
       "      <th>22</th>\n",
       "      <td>Phytophthora</td>\n",
       "      <td>cinnamomi</td>\n",
       "      <td>NCBI:txid4785</td>\n",
       "      <td>GCA_002734105.1, GCA_002734125.1, GCA_00131450...</td>\n",
       "    </tr>\n",
       "    <tr>\n",
       "      <th>23</th>\n",
       "      <td>Phytophthora</td>\n",
       "      <td>capsici</td>\n",
       "      <td>NCBI:txid4784</td>\n",
       "      <td>GCA_004138045.1, GCA_004137965.1, GCA_00413797...</td>\n",
       "    </tr>\n",
       "    <tr>\n",
       "      <th>24</th>\n",
       "      <td>Phytophthora</td>\n",
       "      <td>infestans</td>\n",
       "      <td>NCBI:txid4787</td>\n",
       "      <td>GCA_012552325.1, GCA_012295175.1, GCA_01131631...</td>\n",
       "    </tr>\n",
       "    <tr>\n",
       "      <th>25</th>\n",
       "      <td>Phytophthora</td>\n",
       "      <td>parasitica</td>\n",
       "      <td>NCBI:txid4792</td>\n",
       "      <td>GCA_000509525.1, GCA_000509505.1, GCA_00050946...</td>\n",
       "    </tr>\n",
       "    <tr>\n",
       "      <th>26</th>\n",
       "      <td>Phytophthora</td>\n",
       "      <td>ramorum</td>\n",
       "      <td>NCBI:txid164328</td>\n",
       "      <td>GCA_004343245.1, GCA_003956735.1, GCA_00296891...</td>\n",
       "    </tr>\n",
       "    <tr>\n",
       "      <th>27</th>\n",
       "      <td>Phytophthora</td>\n",
       "      <td>sojae</td>\n",
       "      <td>NCBI:txid67593</td>\n",
       "      <td>GCA_009848525.1, GCF_000149755.1</td>\n",
       "    </tr>\n",
       "    <tr>\n",
       "      <th>28</th>\n",
       "      <td>Plasmopara</td>\n",
       "      <td>viticola</td>\n",
       "      <td>NCBI:txid143451</td>\n",
       "      <td>GCA_001695595.3, GCA_003123765.1, GCA_001974925.1</td>\n",
       "    </tr>\n",
       "    <tr>\n",
       "      <th>29</th>\n",
       "      <td>Plasmopara</td>\n",
       "      <td>halstedii</td>\n",
       "      <td>NCBI:txid4781</td>\n",
       "      <td>GCA_004380875.1, GCA_003724065.1, GCA_00364046...</td>\n",
       "    </tr>\n",
       "    <tr>\n",
       "      <th>30</th>\n",
       "      <td>Plasmopara</td>\n",
       "      <td>obducens</td>\n",
       "      <td>NCBI:txid162140</td>\n",
       "      <td>GCA_003640625.1, GCA_003640485.1</td>\n",
       "    </tr>\n",
       "  </tbody>\n",
       "</table>\n",
       "</div>"
      ],
      "text/plain": [
       "               Genus        Species  NCBI Taxonomy ID  \\\n",
       "0        Aspergillus      fumigatus   NCBI:txid746128   \n",
       "1        Aspergillus       nidulans   NCBI:txid162425   \n",
       "2        Aspergillus          niger     NCBI:txid5061   \n",
       "3        Aspergillus        sydowii    NCBI:txid75750   \n",
       "4           Fusarium    graminearum     NCBI:txid5518   \n",
       "5           Fusarium      oxysporum     NCBI:txid5507   \n",
       "6           Fusarium   proliferatum   NCBI:txid948311   \n",
       "7        Magnaporthe         grisea   NCBI:txid148305   \n",
       "8        Magnaporthe         oryzae   NCBI:txid318829   \n",
       "9     Mycosphaerella    graminicola  NCBI:txid1047171   \n",
       "10    Rhynchosporium       agropyri   NCBI:txid914238   \n",
       "11    Rhynchosporium        commune   NCBI:txid914237   \n",
       "12    Rhynchosporium        secalis    NCBI:txid38038   \n",
       "13       Trichoderma     asperellum   NCBI:txid101201   \n",
       "14       Trichoderma     atroviride    NCBI:txid63577   \n",
       "15       Trichoderma  citrinoviride    NCBI:txid58853   \n",
       "16       Trichoderma      harzianum     NCBI:txid5544   \n",
       "17       Trichoderma         reesei    NCBI:txid51453   \n",
       "18          Ustilago         maydis     NCBI:txid5270   \n",
       "19          Ustilago      bromivora   NCBI:txid307758   \n",
       "20            Albugo        candida    NCBI:txid65357   \n",
       "21  Hyaloperonospora  arabidopsidis   NCBI:txid272952   \n",
       "22      Phytophthora      cinnamomi     NCBI:txid4785   \n",
       "23      Phytophthora        capsici     NCBI:txid4784   \n",
       "24      Phytophthora      infestans     NCBI:txid4787   \n",
       "25      Phytophthora     parasitica     NCBI:txid4792   \n",
       "26      Phytophthora        ramorum   NCBI:txid164328   \n",
       "27      Phytophthora          sojae    NCBI:txid67593   \n",
       "28        Plasmopara       viticola   NCBI:txid143451   \n",
       "29        Plasmopara      halstedii     NCBI:txid4781   \n",
       "30        Plasmopara       obducens   NCBI:txid162140   \n",
       "\n",
       "                               NCBI Accession Numbers  \n",
       "0   GCA_012656185.1, GCA_012656215.1, GCA_01265616...  \n",
       "1                    GCA_011075025.1, GCA_011074995.1  \n",
       "2   GCA_011316255.1, GCA_009812365.1, GCA_00463431...  \n",
       "3                    GCA_009828905.1, GCA_009193685.1  \n",
       "4   GCA_012959185.1, GCA_006942295.1, GCA_90049270...  \n",
       "5   GCA_011428085.1, GCA_011426355.1, GCA_01142633...  \n",
       "6   GCA_003709405.1, GCA_003705095.1, GCA_00370496...  \n",
       "7   GCF_004355905.1, GCA_003933175.1, GCA_00292524...  \n",
       "8   GCA_012979135.1, GCA_012978465.1, GCA_01297841...  \n",
       "9   GCA_902712725.1, GCA_003613095.1, GCA_00361118...  \n",
       "10                                    GCA_900074905.1  \n",
       "11                                    GCA_900074885.1  \n",
       "12                                    GCA_900074895.1  \n",
       "13                   GCA_004154885.1, GCA_000733085.2  \n",
       "14  GCA_002916895.1, GCA_001599035.1, GCA_000963795.1  \n",
       "15                                    GCF_003025115.1  \n",
       "16  GCA_010015525.1, GCA_002894145.1, GCA_00283884...  \n",
       "17                   GCA_004762065.1, GCA_001999515.1  \n",
       "18  GCA_001736185.1, GCA_001736215.1, GCA_00173615...  \n",
       "19                   GCA_900101485.1, GCA_900080155.1  \n",
       "20  GCA_000326065.1, GCA_000326045.1, GCA_00130677...  \n",
       "21                   GCA_001414525.1, GCA_001414265.1  \n",
       "22  GCA_002734105.1, GCA_002734125.1, GCA_00131450...  \n",
       "23  GCA_004138045.1, GCA_004137965.1, GCA_00413797...  \n",
       "24  GCA_012552325.1, GCA_012295175.1, GCA_01131631...  \n",
       "25  GCA_000509525.1, GCA_000509505.1, GCA_00050946...  \n",
       "26  GCA_004343245.1, GCA_003956735.1, GCA_00296891...  \n",
       "27                   GCA_009848525.1, GCF_000149755.1  \n",
       "28  GCA_001695595.3, GCA_003123765.1, GCA_001974925.1  \n",
       "29  GCA_004380875.1, GCA_003724065.1, GCA_00364046...  \n",
       "30                   GCA_003640625.1, GCA_003640485.1  "
      ]
     },
     "metadata": {},
     "output_type": "display_data"
    }
   ],
   "source": [
    "import pandas as pd\n",
    "\n",
    "from pathlib import Path\n",
    "from IPython.display import display\n",
    "\n",
    "display(pd.read_csv(\n",
    "    '2020_05_31_genome_dataframe.csv',\n",
    "    header=0,\n",
    "    names=[\"Genus\", \"Species\", \"NCBI Taxonomy ID\", \"NCBI Accession Numbers\"]\n",
    "))"
   ]
  }
 ],
 "metadata": {
  "kernelspec": {
   "display_name": "Python 3",
   "language": "python",
   "name": "python3"
  },
  "language_info": {
   "codemirror_mode": {
    "name": "ipython",
    "version": 3
   },
   "file_extension": ".py",
   "mimetype": "text/x-python",
   "name": "python",
   "nbconvert_exporter": "python",
   "pygments_lexer": "ipython3",
   "version": "3.7.6"
  }
 },
 "nbformat": 4,
 "nbformat_minor": 2
}