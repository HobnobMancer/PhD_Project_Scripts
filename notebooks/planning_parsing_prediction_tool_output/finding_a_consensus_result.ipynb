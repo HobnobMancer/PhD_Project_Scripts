{
 "cells": [
  {
   "cell_type": "markdown",
   "metadata": {},
   "source": [
    "# Finding a consensus result for dbCAN\n",
    "\n",
    "dbCAN is composed of three CAZyme prediction tools: HMMER, Hotpep and DIAMOND. Each can predicate a protein sequence contains multiple CAZyme domains/families.\n",
    "\n",
    "The aim here is to develop a method that can find a consensus result from three lists, each list containing the predictions from one prediciton tool.\n",
    "\n",
    "This is not as simple as comparing a to b, then checking if those results are in c becuase there may be common results between b and c that are not in a and thus would be missed."
   ]
  },
  {
   "cell_type": "code",
   "execution_count": 5,
   "metadata": {},
   "outputs": [
    {
     "name": "stdout",
     "output_type": "stream",
     "text": [
      "Requirement already satisfied: numpy in /home/em/anaconda3/lib/python3.8/site-packages (1.18.5)\r\n"
     ]
    }
   ],
   "source": [
    "!pip3 install numpy"
   ]
  },
  {
   "cell_type": "code",
   "execution_count": 6,
   "metadata": {},
   "outputs": [],
   "source": [
    "import numpy as np"
   ]
  },
  {
   "cell_type": "code",
   "execution_count": 7,
   "metadata": {},
   "outputs": [
    {
     "data": {
      "text/plain": [
       "{2}"
      ]
     },
     "execution_count": 7,
     "metadata": {},
     "output_type": "execute_result"
    }
   ],
   "source": [
    "# Example lists to use for trying to a consensus result, starting with an easy example\n",
    "a = [1, 2, 3, 4]\n",
    "b = [2, 6]\n",
    "c = [2, 5]\n",
    "\n",
    "# first try with sets\n",
    "consensus = set(a) & set(b) & set(c)\n",
    "consensus"
   ]
  },
  {
   "cell_type": "code",
   "execution_count": 13,
   "metadata": {},
   "outputs": [
    {
     "name": "stdout",
     "output_type": "stream",
     "text": [
      "{2} <class 'set'>\n"
     ]
    }
   ],
   "source": [
    "# try again with multiple consensus results\n",
    "aa = [1, 2, 3, 4]\n",
    "bb = [2, 6]\n",
    "cc = [2, 5, 6]\n",
    "\n",
    "consensus_1 = set(aa) & set(bb) & set(cc)\n",
    "print(consensus_1, type(consensus_1))"
   ]
  },
  {
   "cell_type": "markdown",
   "metadata": {},
   "source": [
    "This appears to only find results that are common to all three lists. Which is not necessarily the result we want. That is the best results, but if that is not found we want a result that appears in at least two of the lists.\n",
    "\n",
    "If one of the lists is a null value, a check should be added so that it is not included in the consensus-set check, and only look for consensus across the two results lists that are not null values (or do not contain null values)."
   ]
  },
  {
   "cell_type": "code",
   "execution_count": 12,
   "metadata": {},
   "outputs": [
    {
     "name": "stdout",
     "output_type": "stream",
     "text": [
      "set() set()\n",
      "set() set()\n"
     ]
    }
   ],
   "source": [
    "# First check what happens when comparing lists with null values in\n",
    "a = [np.nan]\n",
    "b = [2]\n",
    "c = [np.nan]\n",
    "\n",
    "aa = [1, 2]\n",
    "bb = [1]\n",
    "cc = [np.nan]\n",
    "\n",
    "consensus = set(a) & set(b) & set(c)\n",
    "consensus_1 = set(aa) & set(bb) & set(cc)\n",
    "\n",
    "print(consensus, repr(consensus))\n",
    "print(consensus_1, repr(consensus_1))\n",
    "# This produces an empty set"
   ]
  },
  {
   "cell_type": "markdown",
   "metadata": {},
   "source": [
    "An empty set is produced if that is the common result. This could be an alternative to check the number if the '#ofTools#' column potentially, to find a consensus result of a non-CAZyme prediction.\n",
    "\n",
    "When a consensus is returned how do we retrieve the specific value and how do we check if a set is empty?"
   ]
  },
  {
   "cell_type": "code",
   "execution_count": 24,
   "metadata": {},
   "outputs": [
    {
     "name": "stdout",
     "output_type": "stream",
     "text": [
      "consensus= set()\n",
      "Empty\n",
      "consensus= {2}\n",
      "Not {2}\n"
     ]
    }
   ],
   "source": [
    "# First how to check if set is empty\n",
    "a = [np.nan]\n",
    "b = [2]\n",
    "c = [np.nan]\n",
    "consensus = set(a) & set(b) & set(c)\n",
    "print(\"consensus=\", consensus)\n",
    "\n",
    "if consensus == set():\n",
    "    print(\"Empty\")\n",
    "else:\n",
    "    print(\"Not\", consensus)\n",
    "    \n",
    "a = [2, 3]\n",
    "b = [2]\n",
    "c = [2]\n",
    "consensus = set(a) & set(b) & set(c)\n",
    "print(\"consensus=\", consensus)\n",
    "\n",
    "if consensus == set():\n",
    "    print(\"Empty\")\n",
    "else:\n",
    "    print(\"Not\", consensus)"
   ]
  },
  {
   "cell_type": "code",
   "execution_count": 27,
   "metadata": {},
   "outputs": [
    {
     "name": "stdout",
     "output_type": "stream",
     "text": [
      "<class 'set'>\n",
      "[2]\n"
     ]
    }
   ],
   "source": [
    "# now to retrieve the value from a set\n",
    "print(type(consensus))\n",
    "print(list(consensus))"
   ]
  },
  {
   "cell_type": "code",
   "execution_count": 32,
   "metadata": {},
   "outputs": [
    {
     "name": "stdout",
     "output_type": "stream",
     "text": [
      "no consensus= set() [] 0 0\n",
      "consensus= set() [] 0 0\n",
      "consensus= {2} [2] 1 1\n"
     ]
    }
   ],
   "source": [
    "# what happens if there is no consensus or the consensus is a null value\n",
    "\n",
    "# no consensus\n",
    "a = [1, 2]\n",
    "b = [3, 4]\n",
    "c = [5, 6]\n",
    "con = set(a) & set(b) & set(c)\n",
    "print(\"no consensus=\", con, list(con), len(list(con)), len(con))\n",
    "\n",
    "# null value consensus\n",
    "a = [np.nan]\n",
    "b = [2]\n",
    "c = [np.nan]\n",
    "consensus = set(a) & set(b) & set(c)\n",
    "print(\"consensus=\", consensus, list(consensus), len(list(consensus)), len(consensus))\n",
    "\n",
    "# when there is a consensus\n",
    "a = [2, 3]\n",
    "b = [2]\n",
    "c = [2]\n",
    "consensus = set(a) & set(b) & set(c)\n",
    "print(\"consensus=\", consensus, list(consensus), len(list(consensus)), len(consensus))"
   ]
  },
  {
   "cell_type": "markdown",
   "metadata": {},
   "source": [
    "The next issue to deal with is **finding the consensus when only two of the tools contain the result**. One approach is a series of comparisons: `if (in a and b) or (in b and c) or (in c and b):`. This could be a slow method if the lists are very long but this is not expected with the dbCAN output, but a more elegant method may be obtainable.\n",
    "\n",
    "The question is, do three tools agreeing trump two agreeing. If three tools agree do we not include results when only two agree?\n",
    "\n",
    "Or the results can be spread over two columns, one containing results when three tools agree and other for results where two tools agree."
   ]
  },
  {
   "cell_type": "code",
   "execution_count": 51,
   "metadata": {},
   "outputs": [
    {
     "name": "stdout",
     "output_type": "stream",
     "text": [
      "common to all= [2, 2, 2, 2, 6, 2, 2, 6]\n",
      "final consensus, all= [2, 6] two= [4, 5]\n"
     ]
    }
   ],
   "source": [
    "a = [1, 2, 3, 4, 6]\n",
    "b = [2, 6, 4, 5]\n",
    "c = [2, 5, 6]\n",
    "\n",
    "# the result should be\n",
    "# 2 and 6 is common to all\n",
    "# 4 and 5 appear in two of three lists\n",
    "\n",
    "# first retreve items common to all lists, this builds the list of consensus results\n",
    "consensus_3 = list(set(a) & set(b) & set(c))\n",
    "print(\"common to all=\", consensus)\n",
    "\n",
    "# find items that are in two of the three lists:\n",
    "consensus_2 = list(set(a) & set(b))\n",
    "consensus_2 += list(set(a) & set(c))\n",
    "consensus_2 += list(set(b) & set(c))\n",
    "\n",
    "# remove duplicates from consensus_2\n",
    "consensus_2 = list(dict.fromkeys(consensus_2))\n",
    "# remove items in consensus_2 that are also in consensus_3\n",
    "for item in consensus_2:\n",
    "    if item in consensus_3:\n",
    "        consensus_2.remove(item)\n",
    "\n",
    "print(\"final consensus, all=\", consensus_3, \"two=\", consensus_2)"
   ]
  },
  {
   "cell_type": "code",
   "execution_count": null,
   "metadata": {},
   "outputs": [],
   "source": [
    "def get_consensus(hmmer, hotpep, diamond):\n",
    "    \"\"\"Get consensus results across HMMER, Hotpep and DIAMOND.\n",
    "    \n",
    "    Retrieves list of items common to all three tools, and another list of items common to two of the tools.\n",
    "    \n",
    "    :param hmmer: list of predictions from HMMER\n",
    "    :param hotpep: list of predictions from Hotpep\n",
    "    :param diamond: list of predictions from DIAMOND\n",
    "    \n",
    "    Return two lists, items where all 3 tools agree, items where two 2 tools agree\n",
    "    \"\"\"\n",
    "    # Retrieve list of items predicated by all three tools\n",
    "    print(type(hmmer), type(hotpep), type(diamond))\n",
    "    consensus_3 = list(set(hmmer) & set(hotpep) & set(diamond))\n",
    "    if len(consensus_3) == 0:\n",
    "        consensus_3 = [np.nan]\n",
    "    \n",
    "    # Retrieve list of items predicated by two of the tools\n",
    "    consensus_2 = list(set(hmmer) & set(hotpep))\n",
    "    consensus_2 += list(set(hmmer) & set(diamond))\n",
    "    consensus_2 += list(set(hotpep) & set(diamond))\n",
    "    \n",
    "    # remove duplicates and items in consensus for all 3 tools\n",
    "    consensus_2 = list(dict.fromkets(consensus_2))\n",
    "    for item in consensus_2:\n",
    "        if item in consensus_3:\n",
    "            consensus_2.remove(item)\n",
    "    \n",
    "    if len(consensus_2) == 0:\n",
    "        consensus_2 = [np.nan]\n",
    "    \n",
    "    return consensus_3, consensus_2\n",
    "\n",
    "\n",
    "with open(\"overview.txt\", \"r\") as fh:\n",
    "    overview_file = fh.read().splitlines()\n",
    "\n",
    "dbcan_df = pd.DataFrame({}, columns=[\"protein_accession\", \"cazy_family\", \"cazy_subfamily\"])\n",
    "\n",
    "for line in overview_file[1:]:\n",
    "    line = line.split(\"\\t\")\n",
    "    if line[-1] == \"1\":\n",
    "        continue  # take the same approach as the other tools, do not include if predicated non-CAZyme\n",
    "        \n",
    "    hmmer\n",
    "\n",
    "    fam_consensus_3, fam_consensus_2 = get_consensus(hmmer_df[\"cazy_family\"], hotpep_df[\"cazy_family\"], diamond_df[\"cazy_family\"])\n",
    "    subfam_consensus_3, subfam_consensus_2 = get_consensus(hmmer_df[\"cazy_subfamily\"], hotpep_df[\"cazy_subfamily\"], diamond_df[\"cazy_subfamily\"])\n",
    "\n",
    "    consensus_prediction_dict = {\n",
    "        \"protein_accession\": [line[0]],\n",
    "        \"cazy_family_3\": fam_consensus_3,\n",
    "        \"cazy_subfamily_3\": subfam_consensus_3,\n",
    "        \"cazy_family_2\": fam_consensus_2,\n",
    "        \"cazy_subfamily_2\": subfam_consensus_2,\n",
    "    }\n",
    "    \n",
    "    consensus_prediction_df = pd.DataFrame(consensus_prediction_dict)\n",
    "    \n",
    "    dbcan_df = dbcan_df.append(consensus_prediction_df, ignore_index=True)\n",
    "\n",
    "db_can_df"
   ]
  }
 ],
 "metadata": {
  "kernelspec": {
   "display_name": "Python 3",
   "language": "python",
   "name": "python3"
  },
  "language_info": {
   "codemirror_mode": {
    "name": "ipython",
    "version": 3
   },
   "file_extension": ".py",
   "mimetype": "text/x-python",
   "name": "python",
   "nbconvert_exporter": "python",
   "pygments_lexer": "ipython3",
   "version": "3.8.3"
  }
 },
 "nbformat": 4,
 "nbformat_minor": 4
}
