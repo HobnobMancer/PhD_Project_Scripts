{
 "cells": [
  {
   "cell_type": "markdown",
   "metadata": {},
   "source": [
    "\n",
    "\n",
    "### Overview of 'Extract Genomes'\n",
    "Genomic sequences with and without annotations are stored in the NCBI database. The aim of this section of the project is to identify which fungi and omycete species will be most relevant to pull down for later examination to identify carbohydrate processing enzymes. Simultaneously, a Python script will be written to pull down the identified genomes from the NCBI database using Entrez from the BioPython module, in an automated manner. A test sample will be created to work on and test the script for pulling down genomes from NCBI.\n",
    "\n",
    "During this time, time will be dedicated to examinging the different output files of the NCBI database and identifying the taxonomic numbers of the desired fungal and omycete species.\n",
    "\n",
    "### Notes on pulling down genomes from NCBI\n",
    "Some will have annotations some will not, those that do not will be annotated using computational methods in the next section of the project.\n",
    "\n",
    "Each entity in the NCBI database could have two sequences: on a GeneBank format and the other a RefSeq. It is advisable to find take the former format\n",
    "\n",
    "### 28-02-2020\n",
    "Planning session with Leighton, setting out a broad prelimnary overview of the computational section of the PhD project. From this an overflow flow diagram was created which will be updated with details and corrected path as time progresses.\n",
    "\n",
    "Current tasks:\n",
    " \n",
    "1) Identify plant pathogenic and/or plant degrading fungal and omycete species\n",
    "    i) Look in the literature to identify suitable speciesi\n",
    "    ii) Identify and store the taxanomic NCBI identifiers\n",
    "\n",
    "2) Spend time looking around the NCBI database\n",
    "    i ) What are the different formats of the files available?\n",
    "    ii) Which output file formats are going to be most relevant and useful to pull down?\n",
    "    iii) What are the differences between RefSeq and GeneBank assembles?\n",
    "    \n",
    "3) Write a short 10-15 line Python script for pulling down genomes from NCBI\n",
    "    i) Spend some time reading the documentation for Entrez.BioPython\n",
    "    ii) Spend some time practising using Entrez.BioPython\n",
    "    iii) Create a test dataset for using to test any code\n",
    "    iv) Write the script and upload to GitHub then create a pullrequest for Leighton to see and check\n",
    "    \n"
   ]
  }
 ],
 "metadata": {
  "kernelspec": {
   "display_name": "Python 3",
   "language": "python",
   "name": "python3"
  },
  "language_info": {
   "codemirror_mode": {
    "name": "ipython",
    "version": 3
   },
   "file_extension": ".py",
   "mimetype": "text/x-python",
   "name": "python",
   "nbconvert_exporter": "python",
   "pygments_lexer": "ipython3",
   "version": "3.7.4"
  }
 },
 "nbformat": 4,
 "nbformat_minor": 4
}
