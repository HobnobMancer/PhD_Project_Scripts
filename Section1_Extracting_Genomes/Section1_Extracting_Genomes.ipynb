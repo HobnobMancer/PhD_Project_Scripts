{
 "cells": [
  {
   "cell_type": "markdown",
   "metadata": {},
   "source": [
    "### Section 1: Extracting Genomes from NCBI\n",
    "### Introduction to the notebook\n",
    "\n",
    "### Overview of 'Extract Genomes'\n",
    "Genomic sequences with and without annotations are stored in the NCBI database. The aim of this section of the project is to identify which fungi and omycete species will be most relevant to pull down for later examination to identify carbohydrate processing enzymes. Simultaneously, a Python script will be written to pull down the identified genomes from the NCBI database using Entrez from the BioPython module, in an automated manner. A test sample will be created to work on and test the script for pulling down genomes from NCBI.\n",
    "\n",
    "During this time, time will be dedicated to examinging the different output files of the NCBI database and identifying the taxonomic numbers of the desired fungal and omycete species.\n",
    "\n",
    "### Notes on pulling down genomes from NCBI\n",
    "Some will have annotations some will not, those that do not will be annotated using computational methods in the next section of the project.\n",
    "\n",
    "Each entity in the NCBI database could have two sequences: on a GeneBank format and the other a RefSeq. It is advisable to find take the former format\n",
    "\n",
    "There was a planning session with Leighton on 28-02-2020, setting out a broad prelimnary overview of the computational section of the PhD project. From this an overflow flow diagram was created which will be updated with details and corrected path as time progresses.\n",
    "\n",
    "Tasks:\n",
    "\n",
    "1) Create flow chart of overal computational plan and upload to github\n",
    " \n",
    "2) Identify plant pathogenic and/or plant degrading fungal and omycete species\n",
    "    i) Look in the literature to identify suitable speciesi\n",
    "    ii) Identify and store the taxanomic NCBI identifiers\n",
    "\n",
    "3) Spend time looking around the NCBI database\n",
    "    i ) What are the different formats of the files available?\n",
    "    ii) Which output file formats are going to be most relevant and useful to pull down?\n",
    "    iii) What are the differences between RefSeq and GeneBank assembles?\n",
    "    \n",
    "4) Write a short 10-15 line Python script for pulling down genomes from NCBI\n",
    "    i) Spend some time reading the documentation for Entrez.BioPython\n",
    "    ii) Spend some time practising using Entrez.BioPython\n",
    "    iii) Create a test dataset for using to test any code\n",
    "    iv) Write the script and upload to GitHub then create a pullrequest for Leighton to see and check\n",
    "    \n"
   ]
  },
  {
   "cell_type": "markdown",
   "metadata": {},
   "source": [
    "Task 1 completed on 28-02-2020, and uploaded to main area of the computational repository on GitHub"
   ]
  },
  {
   "cell_type": "markdown",
   "metadata": {},
   "source": [
    "### Papers for identifying fungal and omycete speices most suitable for future analysis\n",
    "https://www.hindawi.com/journals/ijg/2018/1974151/\n",
    "https://www.sciencedirect.com/science/article/pii/S1749461318300289\n",
    "https://www.ncbi.nlm.nih.gov/pubmed/25192611\n",
    "https://www.ncbi.nlm.nih.gov/pubmed/30825514\n",
    "https://www.ncbi.nlm.nih.gov/pmc/articles/PMC3852112/pdf/1471-2164-14-S5-S7.pdf -- similar idea to the computational part of the PhD project\n",
    "https://bmcgenomics.biomedcentral.com/articles/10.1186/s12864-019-6358-x - Ascomycota focused\n",
    "https://www.ncbi.nlm.nih.gov/pmc/articles/PMC4577117/ - Phytophthora focused\n",
    "\n",
    "(Project was advertised as looking at fungal Rhynchosporium and Magnaporthegenera and oomycete  Phytophthora genus, check "
   ]
  },
  {
   "cell_type": "markdown",
   "metadata": {},
   "source": [
    "### Working list of fungi and omycete identified for pull down from NCBI\n"
   ]
  },
  {
   "cell_type": "markdown",
   "metadata": {},
   "source": [
    "### Notes when looking at the NCBI fungal taxnomic database\n",
    "Many of the fungal entries are not classified.\n",
    "Papers from above indicate that root associated fungi typically possess fewew PCWDEs, therefore may not need to include them???\n"
   ]
  }
 ],
 "metadata": {
  "kernelspec": {
   "display_name": "Python 3",
   "language": "python",
   "name": "python3"
  },
  "language_info": {
   "codemirror_mode": {
    "name": "ipython",
    "version": 3
   },
   "file_extension": ".py",
   "mimetype": "text/x-python",
   "name": "python",
   "nbconvert_exporter": "python",
   "pygments_lexer": "ipython3",
   "version": "3.7.4"
  }
 },
 "nbformat": 4,
 "nbformat_minor": 4
}
